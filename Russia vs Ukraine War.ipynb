{
 "cells": [
  {
   "cell_type": "code",
   "execution_count": 7,
   "id": "4777e32b",
   "metadata": {},
   "outputs": [
    {
     "name": "stdout",
     "output_type": "stream",
     "text": [
      "Collecting pycwt\n",
      "  Using cached pycwt-0.4.0b0-py3-none-any.whl (753 kB)\n",
      "Requirement already satisfied: scipy<2,>=1.10 in d:\\users\\manan\\anaconda3\\lib\\site-packages (from pycwt) (1.13.1)\n",
      "Collecting matplotlib<4,>=3.7\n",
      "  Using cached matplotlib-3.9.1-cp39-cp39-win_amd64.whl (8.0 MB)\n",
      "Requirement already satisfied: numpy<2,>=1.24 in d:\\users\\manan\\anaconda3\\lib\\site-packages (from pycwt) (1.26.4)\n",
      "Requirement already satisfied: tqdm<5,>=4.65 in d:\\users\\manan\\anaconda3\\lib\\site-packages (from pycwt) (4.66.4)\n",
      "Requirement already satisfied: pyparsing>=2.3.1 in d:\\users\\manan\\anaconda3\\lib\\site-packages (from matplotlib<4,>=3.7->pycwt) (3.0.4)\n",
      "Requirement already satisfied: contourpy>=1.0.1 in d:\\users\\manan\\anaconda3\\lib\\site-packages (from matplotlib<4,>=3.7->pycwt) (1.2.1)\n",
      "Requirement already satisfied: cycler>=0.10 in d:\\users\\manan\\anaconda3\\lib\\site-packages (from matplotlib<4,>=3.7->pycwt) (0.11.0)\n",
      "Requirement already satisfied: python-dateutil>=2.7 in d:\\users\\manan\\anaconda3\\lib\\site-packages (from matplotlib<4,>=3.7->pycwt) (2.8.2)\n",
      "Requirement already satisfied: packaging>=20.0 in d:\\users\\manan\\anaconda3\\lib\\site-packages (from matplotlib<4,>=3.7->pycwt) (21.3)\n",
      "Requirement already satisfied: importlib-resources>=3.2.0 in d:\\users\\manan\\anaconda3\\lib\\site-packages (from matplotlib<4,>=3.7->pycwt) (6.4.0)\n",
      "Requirement already satisfied: fonttools>=4.22.0 in d:\\users\\manan\\anaconda3\\lib\\site-packages (from matplotlib<4,>=3.7->pycwt) (4.25.0)\n",
      "Requirement already satisfied: kiwisolver>=1.3.1 in d:\\users\\manan\\anaconda3\\lib\\site-packages (from matplotlib<4,>=3.7->pycwt) (1.3.2)\n",
      "Requirement already satisfied: pillow>=8 in d:\\users\\manan\\anaconda3\\lib\\site-packages (from matplotlib<4,>=3.7->pycwt) (10.1.0)\n",
      "Requirement already satisfied: zipp>=3.1.0 in d:\\users\\manan\\anaconda3\\lib\\site-packages (from importlib-resources>=3.2.0->matplotlib<4,>=3.7->pycwt) (3.7.0)\n",
      "Requirement already satisfied: six>=1.5 in d:\\users\\manan\\anaconda3\\lib\\site-packages (from python-dateutil>=2.7->matplotlib<4,>=3.7->pycwt) (1.16.0)\n",
      "Requirement already satisfied: colorama in d:\\users\\manan\\anaconda3\\lib\\site-packages (from tqdm<5,>=4.65->pycwt) (0.4.4)\n",
      "Installing collected packages: matplotlib, pycwt\n",
      "  Attempting uninstall: matplotlib\n",
      "    Found existing installation: matplotlib 3.5.1\n",
      "    Uninstalling matplotlib-3.5.1:\n"
     ]
    },
    {
     "name": "stderr",
     "output_type": "stream",
     "text": [
      "ERROR: Could not install packages due to an OSError: [WinError 5] Access is denied: 'd:\\\\users\\\\manan\\\\anaconda3\\\\lib\\\\site-packages\\\\matplotlib\\\\backends\\\\_backend_agg.cp39-win_amd64.pyd'\n",
      "Consider using the `--user` option or check the permissions.\n",
      "\n"
     ]
    }
   ],
   "source": [
    "import pandas as pd \n",
    "import numpy as np\n",
    "import matplotlib.pyplot as plt\n",
    "import statsmodels.api as sm\n",
    "!pip install pycwt\n"
   ]
  },
  {
   "cell_type": "code",
   "execution_count": 4,
   "id": "5214f18a",
   "metadata": {},
   "outputs": [
    {
     "name": "stderr",
     "output_type": "stream",
     "text": [
      "C:\\Users\\Manan\\anaconda3\\lib\\site-packages\\pandas\\io\\parsers\\base_parser.py:1070: UserWarning: Parsing '24-01-2022' in DD/MM/YYYY format. Provide format or specify infer_datetime_format=True for consistent parsing.\n",
      "  return tools.to_datetime(\n",
      "C:\\Users\\Manan\\anaconda3\\lib\\site-packages\\pandas\\io\\parsers\\base_parser.py:1070: UserWarning: Parsing '25-01-2022' in DD/MM/YYYY format. Provide format or specify infer_datetime_format=True for consistent parsing.\n",
      "  return tools.to_datetime(\n",
      "C:\\Users\\Manan\\anaconda3\\lib\\site-packages\\pandas\\io\\parsers\\base_parser.py:1070: UserWarning: Parsing '26-01-2022' in DD/MM/YYYY format. Provide format or specify infer_datetime_format=True for consistent parsing.\n",
      "  return tools.to_datetime(\n",
      "C:\\Users\\Manan\\anaconda3\\lib\\site-packages\\pandas\\io\\parsers\\base_parser.py:1070: UserWarning: Parsing '27-01-2022' in DD/MM/YYYY format. Provide format or specify infer_datetime_format=True for consistent parsing.\n",
      "  return tools.to_datetime(\n",
      "C:\\Users\\Manan\\anaconda3\\lib\\site-packages\\pandas\\io\\parsers\\base_parser.py:1070: UserWarning: Parsing '28-01-2022' in DD/MM/YYYY format. Provide format or specify infer_datetime_format=True for consistent parsing.\n",
      "  return tools.to_datetime(\n",
      "C:\\Users\\Manan\\anaconda3\\lib\\site-packages\\pandas\\io\\parsers\\base_parser.py:1070: UserWarning: Parsing '29-01-2022' in DD/MM/YYYY format. Provide format or specify infer_datetime_format=True for consistent parsing.\n",
      "  return tools.to_datetime(\n",
      "C:\\Users\\Manan\\anaconda3\\lib\\site-packages\\pandas\\io\\parsers\\base_parser.py:1070: UserWarning: Parsing '30-01-2022' in DD/MM/YYYY format. Provide format or specify infer_datetime_format=True for consistent parsing.\n",
      "  return tools.to_datetime(\n",
      "C:\\Users\\Manan\\anaconda3\\lib\\site-packages\\pandas\\io\\parsers\\base_parser.py:1070: UserWarning: Parsing '31-01-2022' in DD/MM/YYYY format. Provide format or specify infer_datetime_format=True for consistent parsing.\n",
      "  return tools.to_datetime(\n",
      "C:\\Users\\Manan\\anaconda3\\lib\\site-packages\\pandas\\io\\parsers\\base_parser.py:1070: UserWarning: Parsing '13-02-2022' in DD/MM/YYYY format. Provide format or specify infer_datetime_format=True for consistent parsing.\n",
      "  return tools.to_datetime(\n",
      "C:\\Users\\Manan\\anaconda3\\lib\\site-packages\\pandas\\io\\parsers\\base_parser.py:1070: UserWarning: Parsing '14-02-2022' in DD/MM/YYYY format. Provide format or specify infer_datetime_format=True for consistent parsing.\n",
      "  return tools.to_datetime(\n",
      "C:\\Users\\Manan\\anaconda3\\lib\\site-packages\\pandas\\io\\parsers\\base_parser.py:1070: UserWarning: Parsing '15-02-2022' in DD/MM/YYYY format. Provide format or specify infer_datetime_format=True for consistent parsing.\n",
      "  return tools.to_datetime(\n",
      "C:\\Users\\Manan\\anaconda3\\lib\\site-packages\\pandas\\io\\parsers\\base_parser.py:1070: UserWarning: Parsing '16-02-2022' in DD/MM/YYYY format. Provide format or specify infer_datetime_format=True for consistent parsing.\n",
      "  return tools.to_datetime(\n",
      "C:\\Users\\Manan\\anaconda3\\lib\\site-packages\\pandas\\io\\parsers\\base_parser.py:1070: UserWarning: Parsing '17-02-2022' in DD/MM/YYYY format. Provide format or specify infer_datetime_format=True for consistent parsing.\n",
      "  return tools.to_datetime(\n",
      "C:\\Users\\Manan\\anaconda3\\lib\\site-packages\\pandas\\io\\parsers\\base_parser.py:1070: UserWarning: Parsing '18-02-2022' in DD/MM/YYYY format. Provide format or specify infer_datetime_format=True for consistent parsing.\n",
      "  return tools.to_datetime(\n",
      "C:\\Users\\Manan\\anaconda3\\lib\\site-packages\\pandas\\io\\parsers\\base_parser.py:1070: UserWarning: Parsing '19-02-2022' in DD/MM/YYYY format. Provide format or specify infer_datetime_format=True for consistent parsing.\n",
      "  return tools.to_datetime(\n",
      "C:\\Users\\Manan\\anaconda3\\lib\\site-packages\\pandas\\io\\parsers\\base_parser.py:1070: UserWarning: Parsing '20-02-2022' in DD/MM/YYYY format. Provide format or specify infer_datetime_format=True for consistent parsing.\n",
      "  return tools.to_datetime(\n",
      "C:\\Users\\Manan\\anaconda3\\lib\\site-packages\\pandas\\io\\parsers\\base_parser.py:1070: UserWarning: Parsing '21-02-2022' in DD/MM/YYYY format. Provide format or specify infer_datetime_format=True for consistent parsing.\n",
      "  return tools.to_datetime(\n",
      "C:\\Users\\Manan\\anaconda3\\lib\\site-packages\\pandas\\io\\parsers\\base_parser.py:1070: UserWarning: Parsing '22-02-2022' in DD/MM/YYYY format. Provide format or specify infer_datetime_format=True for consistent parsing.\n",
      "  return tools.to_datetime(\n",
      "C:\\Users\\Manan\\anaconda3\\lib\\site-packages\\pandas\\io\\parsers\\base_parser.py:1070: UserWarning: Parsing '23-02-2022' in DD/MM/YYYY format. Provide format or specify infer_datetime_format=True for consistent parsing.\n",
      "  return tools.to_datetime(\n",
      "C:\\Users\\Manan\\anaconda3\\lib\\site-packages\\pandas\\io\\parsers\\base_parser.py:1070: UserWarning: Parsing '24-02-2022' in DD/MM/YYYY format. Provide format or specify infer_datetime_format=True for consistent parsing.\n",
      "  return tools.to_datetime(\n",
      "C:\\Users\\Manan\\anaconda3\\lib\\site-packages\\pandas\\io\\parsers\\base_parser.py:1070: UserWarning: Parsing '25-02-2022' in DD/MM/YYYY format. Provide format or specify infer_datetime_format=True for consistent parsing.\n",
      "  return tools.to_datetime(\n",
      "C:\\Users\\Manan\\anaconda3\\lib\\site-packages\\pandas\\io\\parsers\\base_parser.py:1070: UserWarning: Parsing '26-02-2022' in DD/MM/YYYY format. Provide format or specify infer_datetime_format=True for consistent parsing.\n",
      "  return tools.to_datetime(\n",
      "C:\\Users\\Manan\\anaconda3\\lib\\site-packages\\pandas\\io\\parsers\\base_parser.py:1070: UserWarning: Parsing '27-02-2022' in DD/MM/YYYY format. Provide format or specify infer_datetime_format=True for consistent parsing.\n",
      "  return tools.to_datetime(\n",
      "C:\\Users\\Manan\\anaconda3\\lib\\site-packages\\pandas\\io\\parsers\\base_parser.py:1070: UserWarning: Parsing '28-02-2022' in DD/MM/YYYY format. Provide format or specify infer_datetime_format=True for consistent parsing.\n",
      "  return tools.to_datetime(\n",
      "C:\\Users\\Manan\\anaconda3\\lib\\site-packages\\pandas\\io\\parsers\\base_parser.py:1070: UserWarning: Parsing '13-03-2022' in DD/MM/YYYY format. Provide format or specify infer_datetime_format=True for consistent parsing.\n",
      "  return tools.to_datetime(\n",
      "C:\\Users\\Manan\\anaconda3\\lib\\site-packages\\pandas\\io\\parsers\\base_parser.py:1070: UserWarning: Parsing '14-03-2022' in DD/MM/YYYY format. Provide format or specify infer_datetime_format=True for consistent parsing.\n",
      "  return tools.to_datetime(\n",
      "C:\\Users\\Manan\\anaconda3\\lib\\site-packages\\pandas\\io\\parsers\\base_parser.py:1070: UserWarning: Parsing '15-03-2022' in DD/MM/YYYY format. Provide format or specify infer_datetime_format=True for consistent parsing.\n",
      "  return tools.to_datetime(\n",
      "C:\\Users\\Manan\\anaconda3\\lib\\site-packages\\pandas\\io\\parsers\\base_parser.py:1070: UserWarning: Parsing '16-03-2022' in DD/MM/YYYY format. Provide format or specify infer_datetime_format=True for consistent parsing.\n",
      "  return tools.to_datetime(\n",
      "C:\\Users\\Manan\\anaconda3\\lib\\site-packages\\pandas\\io\\parsers\\base_parser.py:1070: UserWarning: Parsing '17-03-2022' in DD/MM/YYYY format. Provide format or specify infer_datetime_format=True for consistent parsing.\n",
      "  return tools.to_datetime(\n",
      "C:\\Users\\Manan\\anaconda3\\lib\\site-packages\\pandas\\io\\parsers\\base_parser.py:1070: UserWarning: Parsing '18-03-2022' in DD/MM/YYYY format. Provide format or specify infer_datetime_format=True for consistent parsing.\n",
      "  return tools.to_datetime(\n",
      "C:\\Users\\Manan\\anaconda3\\lib\\site-packages\\pandas\\io\\parsers\\base_parser.py:1070: UserWarning: Parsing '19-03-2022' in DD/MM/YYYY format. Provide format or specify infer_datetime_format=True for consistent parsing.\n",
      "  return tools.to_datetime(\n",
      "C:\\Users\\Manan\\anaconda3\\lib\\site-packages\\pandas\\io\\parsers\\base_parser.py:1070: UserWarning: Parsing '20-03-2022' in DD/MM/YYYY format. Provide format or specify infer_datetime_format=True for consistent parsing.\n",
      "  return tools.to_datetime(\n",
      "C:\\Users\\Manan\\anaconda3\\lib\\site-packages\\pandas\\io\\parsers\\base_parser.py:1070: UserWarning: Parsing '21-03-2022' in DD/MM/YYYY format. Provide format or specify infer_datetime_format=True for consistent parsing.\n",
      "  return tools.to_datetime(\n",
      "C:\\Users\\Manan\\anaconda3\\lib\\site-packages\\pandas\\io\\parsers\\base_parser.py:1070: UserWarning: Parsing '22-03-2022' in DD/MM/YYYY format. Provide format or specify infer_datetime_format=True for consistent parsing.\n",
      "  return tools.to_datetime(\n",
      "C:\\Users\\Manan\\anaconda3\\lib\\site-packages\\pandas\\io\\parsers\\base_parser.py:1070: UserWarning: Parsing '23-03-2022' in DD/MM/YYYY format. Provide format or specify infer_datetime_format=True for consistent parsing.\n",
      "  return tools.to_datetime(\n",
      "C:\\Users\\Manan\\anaconda3\\lib\\site-packages\\pandas\\io\\parsers\\base_parser.py:1070: UserWarning: Parsing '24-03-2022' in DD/MM/YYYY format. Provide format or specify infer_datetime_format=True for consistent parsing.\n",
      "  return tools.to_datetime(\n",
      "C:\\Users\\Manan\\anaconda3\\lib\\site-packages\\pandas\\io\\parsers\\base_parser.py:1070: UserWarning: Parsing '25-03-2022' in DD/MM/YYYY format. Provide format or specify infer_datetime_format=True for consistent parsing.\n",
      "  return tools.to_datetime(\n",
      "C:\\Users\\Manan\\anaconda3\\lib\\site-packages\\pandas\\io\\parsers\\base_parser.py:1070: UserWarning: Parsing '26-03-2022' in DD/MM/YYYY format. Provide format or specify infer_datetime_format=True for consistent parsing.\n",
      "  return tools.to_datetime(\n",
      "C:\\Users\\Manan\\anaconda3\\lib\\site-packages\\pandas\\io\\parsers\\base_parser.py:1070: UserWarning: Parsing '27-03-2022' in DD/MM/YYYY format. Provide format or specify infer_datetime_format=True for consistent parsing.\n",
      "  return tools.to_datetime(\n",
      "C:\\Users\\Manan\\anaconda3\\lib\\site-packages\\pandas\\io\\parsers\\base_parser.py:1070: UserWarning: Parsing '28-03-2022' in DD/MM/YYYY format. Provide format or specify infer_datetime_format=True for consistent parsing.\n",
      "  return tools.to_datetime(\n",
      "C:\\Users\\Manan\\anaconda3\\lib\\site-packages\\pandas\\io\\parsers\\base_parser.py:1070: UserWarning: Parsing '29-03-2022' in DD/MM/YYYY format. Provide format or specify infer_datetime_format=True for consistent parsing.\n",
      "  return tools.to_datetime(\n",
      "C:\\Users\\Manan\\anaconda3\\lib\\site-packages\\pandas\\io\\parsers\\base_parser.py:1070: UserWarning: Parsing '30-03-2022' in DD/MM/YYYY format. Provide format or specify infer_datetime_format=True for consistent parsing.\n",
      "  return tools.to_datetime(\n",
      "C:\\Users\\Manan\\anaconda3\\lib\\site-packages\\pandas\\io\\parsers\\base_parser.py:1070: UserWarning: Parsing '31-03-2022' in DD/MM/YYYY format. Provide format or specify infer_datetime_format=True for consistent parsing.\n",
      "  return tools.to_datetime(\n",
      "C:\\Users\\Manan\\anaconda3\\lib\\site-packages\\pandas\\io\\parsers\\base_parser.py:1070: UserWarning: Parsing '13-04-2022' in DD/MM/YYYY format. Provide format or specify infer_datetime_format=True for consistent parsing.\n",
      "  return tools.to_datetime(\n",
      "C:\\Users\\Manan\\anaconda3\\lib\\site-packages\\pandas\\io\\parsers\\base_parser.py:1070: UserWarning: Parsing '14-04-2022' in DD/MM/YYYY format. Provide format or specify infer_datetime_format=True for consistent parsing.\n",
      "  return tools.to_datetime(\n",
      "C:\\Users\\Manan\\anaconda3\\lib\\site-packages\\pandas\\io\\parsers\\base_parser.py:1070: UserWarning: Parsing '15-04-2022' in DD/MM/YYYY format. Provide format or specify infer_datetime_format=True for consistent parsing.\n",
      "  return tools.to_datetime(\n",
      "C:\\Users\\Manan\\anaconda3\\lib\\site-packages\\pandas\\io\\parsers\\base_parser.py:1070: UserWarning: Parsing '16-04-2022' in DD/MM/YYYY format. Provide format or specify infer_datetime_format=True for consistent parsing.\n",
      "  return tools.to_datetime(\n",
      "C:\\Users\\Manan\\anaconda3\\lib\\site-packages\\pandas\\io\\parsers\\base_parser.py:1070: UserWarning: Parsing '17-04-2022' in DD/MM/YYYY format. Provide format or specify infer_datetime_format=True for consistent parsing.\n",
      "  return tools.to_datetime(\n",
      "C:\\Users\\Manan\\anaconda3\\lib\\site-packages\\pandas\\io\\parsers\\base_parser.py:1070: UserWarning: Parsing '18-04-2022' in DD/MM/YYYY format. Provide format or specify infer_datetime_format=True for consistent parsing.\n",
      "  return tools.to_datetime(\n"
     ]
    }
   ],
   "source": [
    "df = pd.read_csv('Russia-Ukraine Paper Database.csv',index_col = 'Date',parse_dates = True)"
   ]
  },
  {
   "cell_type": "code",
   "execution_count": 5,
   "id": "9afbd83b",
   "metadata": {},
   "outputs": [
    {
     "data": {
      "text/html": [
       "<div>\n",
       "<style scoped>\n",
       "    .dataframe tbody tr th:only-of-type {\n",
       "        vertical-align: middle;\n",
       "    }\n",
       "\n",
       "    .dataframe tbody tr th {\n",
       "        vertical-align: top;\n",
       "    }\n",
       "\n",
       "    .dataframe thead th {\n",
       "        text-align: right;\n",
       "    }\n",
       "</style>\n",
       "<table border=\"1\" class=\"dataframe\">\n",
       "  <thead>\n",
       "    <tr style=\"text-align: right;\">\n",
       "      <th></th>\n",
       "      <th>WTI Crude</th>\n",
       "      <th>Economic Uncertainity</th>\n",
       "      <th>Trends</th>\n",
       "    </tr>\n",
       "    <tr>\n",
       "      <th>Date</th>\n",
       "      <th></th>\n",
       "      <th></th>\n",
       "      <th></th>\n",
       "    </tr>\n",
       "  </thead>\n",
       "  <tbody>\n",
       "    <tr>\n",
       "      <th>2022-01-24</th>\n",
       "      <td>84.48</td>\n",
       "      <td>273.48</td>\n",
       "      <td>4</td>\n",
       "    </tr>\n",
       "    <tr>\n",
       "      <th>2022-01-25</th>\n",
       "      <td>86.61</td>\n",
       "      <td>190.88</td>\n",
       "      <td>2</td>\n",
       "    </tr>\n",
       "    <tr>\n",
       "      <th>2022-01-26</th>\n",
       "      <td>88.33</td>\n",
       "      <td>146.78</td>\n",
       "      <td>2</td>\n",
       "    </tr>\n",
       "    <tr>\n",
       "      <th>2022-01-27</th>\n",
       "      <td>87.61</td>\n",
       "      <td>164.89</td>\n",
       "      <td>1</td>\n",
       "    </tr>\n",
       "    <tr>\n",
       "      <th>2022-01-28</th>\n",
       "      <td>87.67</td>\n",
       "      <td>129.34</td>\n",
       "      <td>1</td>\n",
       "    </tr>\n",
       "  </tbody>\n",
       "</table>\n",
       "</div>"
      ],
      "text/plain": [
       "            WTI Crude  Economic Uncertainity  Trends\n",
       "Date                                                \n",
       "2022-01-24      84.48                 273.48       4\n",
       "2022-01-25      86.61                 190.88       2\n",
       "2022-01-26      88.33                 146.78       2\n",
       "2022-01-27      87.61                 164.89       1\n",
       "2022-01-28      87.67                 129.34       1"
      ]
     },
     "execution_count": 5,
     "metadata": {},
     "output_type": "execute_result"
    }
   ],
   "source": [
    "df.head()"
   ]
  },
  {
   "cell_type": "code",
   "execution_count": 8,
   "id": "3bc0d2d3",
   "metadata": {},
   "outputs": [
    {
     "data": {
      "image/png": "[encoded data removed]",
      "text/plain": [
       "<Figure size 864x576 with 1 Axes>"
      ]
     },
     "metadata": {
      "needs_background": "light"
     },
     "output_type": "display_data"
    }
   ],
   "source": [
    "df.iloc[:,0].plot(figsize = (12,8))\n",
    "plt.show()"
   ]
  },
  {
   "cell_type": "code",
   "execution_count": 27,
   "id": "cbfce04b",
   "metadata": {},
   "outputs": [],
   "source": [
    "X = np.log(df.iloc[:,1:].values)\n",
    "Y = np.log(df.iloc[:,0].values)"
   ]
  },
  {
   "cell_type": "code",
   "execution_count": 28,
   "id": "e724e543",
   "metadata": {},
   "outputs": [],
   "source": [
    "# Perform quantile regression for median (tau=0.5)\n",
    "quantreg = sm.QuantReg(Y, sm.add_constant(X))\n",
    "quantreg_results = quantreg.fit(q=0.5)\n"
   ]
  },
  {
   "cell_type": "code",
   "execution_count": 29,
   "id": "12e3a5de",
   "metadata": {
    "scrolled": true
   },
   "outputs": [
    {
     "name": "stdout",
     "output_type": "stream",
     "text": [
      "                         QuantReg Regression Results                          \n",
      "==============================================================================\n",
      "Dep. Variable:                      y   Pseudo R-squared:               0.2546\n",
      "Model:                       QuantReg   Bandwidth:                     0.06813\n",
      "Method:                 Least Squares   Sparsity:                       0.1786\n",
      "Date:                Mon, 15 Jul 2024   No. Observations:                   85\n",
      "Time:                        15:14:07   Df Residuals:                       82\n",
      "                                        Df Model:                            2\n",
      "==============================================================================\n",
      "                 coef    std err          t      P>|t|      [0.025      0.975]\n",
      "------------------------------------------------------------------------------\n",
      "const          4.5270      0.133     34.018      0.000       4.262       4.792\n",
      "x1            -0.0070      0.028     -0.254      0.800      -0.062       0.048\n",
      "x2             0.0688      0.010      7.211      0.000       0.050       0.088\n",
      "==============================================================================\n"
     ]
    }
   ],
   "source": [
    "print(quantreg_results.summary())\n"
   ]
  },
  {
   "cell_type": "code",
   "execution_count": 30,
   "id": "29e11cbf",
   "metadata": {},
   "outputs": [],
   "source": [
    "# Perform quantile regression for median (tau=0.5)\n",
    "quantreg = sm.QuantReg(Y, sm.add_constant(X))\n",
    "quantreg_results = quantreg.fit(q=0.75)\n"
   ]
  },
  {
   "cell_type": "code",
   "execution_count": 31,
   "id": "1d93631e",
   "metadata": {},
   "outputs": [
    {
     "name": "stdout",
     "output_type": "stream",
     "text": [
      "                         QuantReg Regression Results                          \n",
      "==============================================================================\n",
      "Dep. Variable:                      y   Pseudo R-squared:               0.2541\n",
      "Model:                       QuantReg   Bandwidth:                     0.05529\n",
      "Method:                 Least Squares   Sparsity:                       0.1930\n",
      "Date:                Mon, 15 Jul 2024   No. Observations:                   85\n",
      "Time:                        15:14:09   Df Residuals:                       82\n",
      "                                        Df Model:                            2\n",
      "==============================================================================\n",
      "                 coef    std err          t      P>|t|      [0.025      0.975]\n",
      "------------------------------------------------------------------------------\n",
      "const          4.4239      0.134     32.994      0.000       4.157       4.691\n",
      "x1             0.0196      0.027      0.713      0.478      -0.035       0.074\n",
      "x2             0.0770      0.007     10.530      0.000       0.062       0.092\n",
      "==============================================================================\n"
     ]
    }
   ],
   "source": [
    "print(quantreg_results.summary())"
   ]
  },
  {
   "cell_type": "code",
   "execution_count": 32,
   "id": "6c863513",
   "metadata": {},
   "outputs": [
    {
     "name": "stderr",
     "output_type": "stream",
     "text": [
      "C:\\Users\\Manan\\anaconda3\\lib\\site-packages\\statsmodels\\regression\\quantile_regression.py:191: IterationLimitWarning: Maximum number of iterations (1000) reached.\n",
      "  warnings.warn(\"Maximum number of iterations (\" + str(max_iter) +\n"
     ]
    }
   ],
   "source": [
    "# Perform quantile regression for median (tau=0.5)\n",
    "quantreg = sm.QuantReg(Y, sm.add_constant(X))\n",
    "quantreg_results = quantreg.fit(q=0.25)"
   ]
  },
  {
   "cell_type": "code",
   "execution_count": 33,
   "id": "6559bacc",
   "metadata": {},
   "outputs": [
    {
     "name": "stdout",
     "output_type": "stream",
     "text": [
      "                         QuantReg Regression Results                          \n",
      "==============================================================================\n",
      "Dep. Variable:                      y   Pseudo R-squared:              0.08549\n",
      "Model:                       QuantReg   Bandwidth:                     0.09845\n",
      "Method:                 Least Squares   Sparsity:                       0.2733\n",
      "Date:                Mon, 15 Jul 2024   No. Observations:                   85\n",
      "Time:                        15:14:11   Df Residuals:                       82\n",
      "                                        Df Model:                            2\n",
      "==============================================================================\n",
      "                 coef    std err          t      P>|t|      [0.025      0.975]\n",
      "------------------------------------------------------------------------------\n",
      "const          4.6184      0.144     32.096      0.000       4.332       4.905\n",
      "x1            -0.0279      0.031     -0.898      0.372      -0.090       0.034\n",
      "x2             0.0357      0.017      2.108      0.038       0.002       0.069\n",
      "==============================================================================\n"
     ]
    }
   ],
   "source": [
    "print(quantreg_results.summary())"
   ]
  },
  {
   "cell_type": "code",
   "execution_count": 34,
   "id": "e8e15ea6",
   "metadata": {},
   "outputs": [
    {
     "name": "stderr",
     "output_type": "stream",
     "text": [
      "C:\\Users\\Manan\\anaconda3\\lib\\site-packages\\statsmodels\\regression\\quantile_regression.py:191: IterationLimitWarning: Maximum number of iterations (1000) reached.\n",
      "  warnings.warn(\"Maximum number of iterations (\" + str(max_iter) +\n"
     ]
    }
   ],
   "source": [
    "# Perform quantile regression for median (tau=0.5)\n",
    "quantreg = sm.QuantReg(Y, sm.add_constant(X))\n",
    "quantreg_results = quantreg.fit(q=0.90)"
   ]
  },
  {
   "cell_type": "code",
   "execution_count": 35,
   "id": "75208e92",
   "metadata": {},
   "outputs": [
    {
     "name": "stdout",
     "output_type": "stream",
     "text": [
      "                         QuantReg Regression Results                          \n",
      "==============================================================================\n",
      "Dep. Variable:                      y   Pseudo R-squared:               0.2740\n",
      "Model:                       QuantReg   Bandwidth:                     0.07733\n",
      "Method:                 Least Squares   Sparsity:                       0.3075\n",
      "Date:                Mon, 15 Jul 2024   No. Observations:                   85\n",
      "Time:                        15:14:18   Df Residuals:                       82\n",
      "                                        Df Model:                            2\n",
      "==============================================================================\n",
      "                 coef    std err          t      P>|t|      [0.025      0.975]\n",
      "------------------------------------------------------------------------------\n",
      "const          4.4029      0.177     24.833      0.000       4.050       4.756\n",
      "x1             0.0259      0.036      0.712      0.478      -0.046       0.098\n",
      "x2             0.1101      0.007     16.177      0.000       0.097       0.124\n",
      "==============================================================================\n"
     ]
    }
   ],
   "source": [
    "print(quantreg_results.summary())"
   ]
  },
  {
   "cell_type": "code",
   "execution_count": 36,
   "id": "77b20fd3",
   "metadata": {},
   "outputs": [
    {
     "ename": "ValueError",
     "evalue": "shapes (85,2) and (3,) not aligned: 2 (dim 1) != 3 (dim 0)",
     "output_type": "error",
     "traceback": [
      "\u001b[1;31m---------------------------------------------------------------------------\u001b[0m",
      "\u001b[1;31mValueError\u001b[0m                                Traceback (most recent call last)",
      "Input \u001b[1;32mIn [36]\u001b[0m, in \u001b[0;36m<cell line: 7>\u001b[1;34m()\u001b[0m\n\u001b[0;32m      4\u001b[0m plt\u001b[38;5;241m.\u001b[39mscatter(X, Y, color\u001b[38;5;241m=\u001b[39m\u001b[38;5;124m'\u001b[39m\u001b[38;5;124mblue\u001b[39m\u001b[38;5;124m'\u001b[39m, label\u001b[38;5;241m=\u001b[39m\u001b[38;5;124m'\u001b[39m\u001b[38;5;124mData\u001b[39m\u001b[38;5;124m'\u001b[39m)\n\u001b[0;32m      6\u001b[0m \u001b[38;5;66;03m# Plot fitted quantile regression line\u001b[39;00m\n\u001b[1;32m----> 7\u001b[0m plt\u001b[38;5;241m.\u001b[39mplot(X, \u001b[43mquantreg_results\u001b[49m\u001b[38;5;241;43m.\u001b[39;49m\u001b[43mpredict\u001b[49m\u001b[43m(\u001b[49m\u001b[43msm\u001b[49m\u001b[38;5;241;43m.\u001b[39;49m\u001b[43madd_constant\u001b[49m\u001b[43m(\u001b[49m\u001b[43mX\u001b[49m\u001b[43m)\u001b[49m\u001b[43m)\u001b[49m, color\u001b[38;5;241m=\u001b[39m\u001b[38;5;124m'\u001b[39m\u001b[38;5;124mred\u001b[39m\u001b[38;5;124m'\u001b[39m, label\u001b[38;5;241m=\u001b[39m\u001b[38;5;124m'\u001b[39m\u001b[38;5;124mQuantile Regression\u001b[39m\u001b[38;5;124m'\u001b[39m)\n\u001b[0;32m      9\u001b[0m plt\u001b[38;5;241m.\u001b[39mtitle(\u001b[38;5;124m'\u001b[39m\u001b[38;5;124mQuantile Regression\u001b[39m\u001b[38;5;124m'\u001b[39m)\n\u001b[0;32m     10\u001b[0m plt\u001b[38;5;241m.\u001b[39mxlabel(\u001b[38;5;124m'\u001b[39m\u001b[38;5;124mX\u001b[39m\u001b[38;5;124m'\u001b[39m)\n",
      "File \u001b[1;32m~\\anaconda3\\lib\\site-packages\\statsmodels\\base\\model.py:1176\u001b[0m, in \u001b[0;36mResults.predict\u001b[1;34m(self, exog, transform, *args, **kwargs)\u001b[0m\n\u001b[0;32m   1129\u001b[0m \u001b[38;5;250m\u001b[39m\u001b[38;5;124;03m\"\"\"\u001b[39;00m\n\u001b[0;32m   1130\u001b[0m \u001b[38;5;124;03mCall self.model.predict with self.params as the first argument.\u001b[39;00m\n\u001b[0;32m   1131\u001b[0m \n\u001b[1;32m   (...)\u001b[0m\n\u001b[0;32m   1171\u001b[0m \u001b[38;5;124;03mreturned prediction.\u001b[39;00m\n\u001b[0;32m   1172\u001b[0m \u001b[38;5;124;03m\"\"\"\u001b[39;00m\n\u001b[0;32m   1173\u001b[0m exog, exog_index \u001b[38;5;241m=\u001b[39m \u001b[38;5;28mself\u001b[39m\u001b[38;5;241m.\u001b[39m_transform_predict_exog(exog,\n\u001b[0;32m   1174\u001b[0m                                                 transform\u001b[38;5;241m=\u001b[39mtransform)\n\u001b[1;32m-> 1176\u001b[0m predict_results \u001b[38;5;241m=\u001b[39m \u001b[38;5;28mself\u001b[39m\u001b[38;5;241m.\u001b[39mmodel\u001b[38;5;241m.\u001b[39mpredict(\u001b[38;5;28mself\u001b[39m\u001b[38;5;241m.\u001b[39mparams, exog, \u001b[38;5;241m*\u001b[39margs,\n\u001b[0;32m   1177\u001b[0m                                      \u001b[38;5;241m*\u001b[39m\u001b[38;5;241m*\u001b[39mkwargs)\n\u001b[0;32m   1179\u001b[0m \u001b[38;5;28;01mif\u001b[39;00m exog_index \u001b[38;5;129;01mis\u001b[39;00m \u001b[38;5;129;01mnot\u001b[39;00m \u001b[38;5;28;01mNone\u001b[39;00m \u001b[38;5;129;01mand\u001b[39;00m \u001b[38;5;129;01mnot\u001b[39;00m \u001b[38;5;28mhasattr\u001b[39m(predict_results,\n\u001b[0;32m   1180\u001b[0m                                           \u001b[38;5;124m'\u001b[39m\u001b[38;5;124mpredicted_values\u001b[39m\u001b[38;5;124m'\u001b[39m):\n\u001b[0;32m   1181\u001b[0m     \u001b[38;5;28;01mif\u001b[39;00m predict_results\u001b[38;5;241m.\u001b[39mndim \u001b[38;5;241m==\u001b[39m \u001b[38;5;241m1\u001b[39m:\n",
      "File \u001b[1;32m~\\anaconda3\\lib\\site-packages\\statsmodels\\regression\\linear_model.py:411\u001b[0m, in \u001b[0;36mRegressionModel.predict\u001b[1;34m(self, params, exog)\u001b[0m\n\u001b[0;32m    408\u001b[0m \u001b[38;5;28;01mif\u001b[39;00m exog \u001b[38;5;129;01mis\u001b[39;00m \u001b[38;5;28;01mNone\u001b[39;00m:\n\u001b[0;32m    409\u001b[0m     exog \u001b[38;5;241m=\u001b[39m \u001b[38;5;28mself\u001b[39m\u001b[38;5;241m.\u001b[39mexog\n\u001b[1;32m--> 411\u001b[0m \u001b[38;5;28;01mreturn\u001b[39;00m \u001b[43mnp\u001b[49m\u001b[38;5;241;43m.\u001b[39;49m\u001b[43mdot\u001b[49m\u001b[43m(\u001b[49m\u001b[43mexog\u001b[49m\u001b[43m,\u001b[49m\u001b[43m \u001b[49m\u001b[43mparams\u001b[49m\u001b[43m)\u001b[49m\n",
      "\u001b[1;31mValueError\u001b[0m: shapes (85,2) and (3,) not aligned: 2 (dim 1) != 3 (dim 0)"
     ]
    },
    {
     "data": {
      "image/png": "[encoded data removed]",
      "text/plain": [
       "<Figure size 432x288 with 1 Axes>"
      ]
     },
     "metadata": {
      "needs_background": "light"
     },
     "output_type": "display_data"
    }
   ],
   "source": [
    "import matplotlib.pyplot as plt\n",
    "X = np.log(df.iloc[:,1].values)\n",
    "# Scatter plot of data\n",
    "plt.scatter(X, Y, color='blue', label='Data')\n",
    "\n",
    "# Plot fitted quantile regression line\n",
    "plt.plot(X, quantreg_results.predict(sm.add_constant(X)), color='red', label='Quantile Regression')\n",
    "\n",
    "plt.title('Quantile Regression')\n",
    "plt.xlabel('X')\n",
    "plt.ylabel('Y')\n",
    "plt.legend()\n",
    "plt.show()"
   ]
  }
 ],
 "metadata": {
  "kernelspec": {
   "display_name": "Python 3 (ipykernel)",
   "language": "python",
   "name": "python3"
  },
  "language_info": {
   "codemirror_mode": {
    "name": "ipython",
    "version": 3
   },
   "file_extension": ".py",
   "mimetype": "text/x-python",
   "name": "python",
   "nbconvert_exporter": "python",
   "pygments_lexer": "ipython3",
   "version": "3.9.12"
  }
 },
 "nbformat": 4,
 "nbformat_minor": 5
}
